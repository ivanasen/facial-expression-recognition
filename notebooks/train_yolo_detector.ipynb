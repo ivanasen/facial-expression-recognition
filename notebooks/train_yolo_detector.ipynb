{
 "metadata": {
  "language_info": {
   "codemirror_mode": {
    "name": "ipython",
    "version": 3
   },
   "file_extension": ".py",
   "mimetype": "text/x-python",
   "name": "python",
   "nbconvert_exporter": "python",
   "pygments_lexer": "ipython3",
   "version": "3.7.4-final"
  },
  "orig_nbformat": 2,
  "kernelspec": {
   "name": "python_defaultSpec_1597533050106",
   "display_name": "Python 3.7.4 64-bit ('.env': venv)"
  }
 },
 "nbformat": 4,
 "nbformat_minor": 2,
 "cells": [
  {
   "cell_type": "code",
   "execution_count": 1,
   "metadata": {
    "tags": []
   },
   "outputs": [],
   "source": [
    "import sys\n",
    "import os\n",
    "\n",
    "import matplotlib.pyplot as plt\n",
    "from matplotlib import patches\n",
    "import tensorflow as tf\n",
    "import tensorflow_datasets as tfds\n",
    "import numpy as np\n",
    "\n",
    "sys.path.append(\"../\")\n",
    "from models.yolo.dataset import get_wider_dataset, transform_boxes_for_yolo_batch\n",
    "from models.yolo.train import YoloFaceDetectionTrainer\n",
    "from models.yolo import utils\n",
    "from models.yolo_face_detector import YoloFaceDetector\n",
    "import models.yolo.yolo_config as config\n",
    "\n",
    "%matplotlib inline\n",
    "%load_ext autoreload\n",
    "%autoreload 2"
   ]
  },
  {
   "cell_type": "code",
   "execution_count": 2,
   "metadata": {},
   "outputs": [],
   "source": [
    "os.chdir(\"../\")"
   ]
  },
  {
   "cell_type": "code",
   "execution_count": 3,
   "metadata": {
    "tags": []
   },
   "outputs": [
    {
     "output_type": "stream",
     "name": "stdout",
     "text": "Model loaded with pretrained weights from  ./model_config/weights/wider_face_yolo.h5\nDataset info\n----------------------------------\nDataset size:  1%\nTraining size:  129\nValidation size:  32\nNumber of train epochs:  10\n"
    }
   ],
   "source": [
    "trainer = YoloFaceDetectionTrainer(dataset_size=\"1%\", model_path=\"./model_config/weights/wider_face_yolo.h5\")"
   ]
  },
  {
   "cell_type": "code",
   "execution_count": 4,
   "metadata": {
    "tags": []
   },
   "outputs": [
    {
     "output_type": "stream",
     "name": "stdout",
     "text": "Validation results:\n=> giou_loss: 13.14   conf_loss: 127.15   prob_loss: 0.00   total_loss: 678.58\n-------------------\nValidation results:\n=> giou_loss: 13.14   conf_loss: 127.15   prob_loss: 0.00   total_loss: 678.58\n-------------------\nValidation results:\n=> giou_loss: 13.14   conf_loss: 127.15   prob_loss: 0.00   total_loss: 678.58\n-------------------\nValidation results:\n=> giou_loss: 13.14   conf_loss: 127.15   prob_loss: 0.00   total_loss: 678.58\n-------------------\nValidation results:\n=> giou_loss: 13.14   conf_loss: 127.15   prob_loss: 0.00   total_loss: 678.58\n-------------------\nValidation results:\n=> giou_loss: 13.14   conf_loss: 127.15   prob_loss: 0.00   total_loss: 678.58\n-------------------\nValidation results:\n=> giou_loss: 13.14   conf_loss: 127.15   prob_loss: 0.00   total_loss: 678.58\n-------------------\nValidation results:\n=> giou_loss: 13.14   conf_loss: 127.15   prob_loss: 0.00   total_loss: 678.58\n-------------------\nValidation results:\n=> giou_loss: 13.14   conf_loss: 127.15   prob_loss: 0.00   total_loss: 678.58\n-------------------\nValidation results:\n=> giou_loss: 13.14   conf_loss: 127.15   prob_loss: 0.00   total_loss: 678.58\n-------------------\n"
    },
    {
     "output_type": "error",
     "ename": "NameError",
     "evalue": "name 'model' is not defined",
     "traceback": [
      "\u001b[0;31m---------------------------------------------------------------------------\u001b[0m",
      "\u001b[0;31mNameError\u001b[0m                                 Traceback (most recent call last)",
      "\u001b[0;32m<ipython-input-4-b6cd7ba69c0e>\u001b[0m in \u001b[0;36m<module>\u001b[0;34m\u001b[0m\n\u001b[0;32m----> 1\u001b[0;31m \u001b[0mtrainer\u001b[0m\u001b[0;34m.\u001b[0m\u001b[0mfit\u001b[0m\u001b[0;34m(\u001b[0m\u001b[0;34m)\u001b[0m\u001b[0;34m\u001b[0m\u001b[0;34m\u001b[0m\u001b[0m\n\u001b[0m",
      "\u001b[0;32m~/Code/Projects/facial-expression-recognition/models/yolo/train.py\u001b[0m in \u001b[0;36mfit\u001b[0;34m(self)\u001b[0m\n\u001b[1;32m     63\u001b[0m                 self.model.save_weights(\n\u001b[1;32m     64\u001b[0m                     self.model_save_path + f\"wider_face_yolo_epoch_{epoch}.h5\")\n\u001b[0;32m---> 65\u001b[0;31m         \u001b[0mmodel\u001b[0m\u001b[0;34m.\u001b[0m\u001b[0msave_weights\u001b[0m\u001b[0;34m(\u001b[0m\u001b[0mself\u001b[0m\u001b[0;34m.\u001b[0m\u001b[0mmodel_save_path\u001b[0m \u001b[0;34m+\u001b[0m \u001b[0;34mf\"wider_face_yolo_final.h5\"\u001b[0m\u001b[0;34m)\u001b[0m\u001b[0;34m\u001b[0m\u001b[0;34m\u001b[0m\u001b[0m\n\u001b[0m\u001b[1;32m     66\u001b[0m \u001b[0;34m\u001b[0m\u001b[0m\n\u001b[1;32m     67\u001b[0m     \u001b[0;32mdef\u001b[0m \u001b[0m_log_info\u001b[0m\u001b[0;34m(\u001b[0m\u001b[0mself\u001b[0m\u001b[0;34m)\u001b[0m\u001b[0;34m:\u001b[0m\u001b[0;34m\u001b[0m\u001b[0;34m\u001b[0m\u001b[0m\n",
      "\u001b[0;31mNameError\u001b[0m: name 'model' is not defined"
     ]
    }
   ],
   "source": [
    "trainer.fit()"
   ]
  },
  {
   "cell_type": "code",
   "execution_count": 9,
   "metadata": {},
   "outputs": [],
   "source": [
    "model = trainer.model\n",
    "model.save_weights(\"./logs/models/wider_face_yolo.h5\")"
   ]
  }
 ]
}